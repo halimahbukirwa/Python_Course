{
  "nbformat": 4,
  "nbformat_minor": 0,
  "metadata": {
    "colab": {
      "provenance": [],
      "include_colab_link": true
    },
    "kernelspec": {
      "name": "python3",
      "display_name": "Python 3"
    },
    "language_info": {
      "name": "python"
    }
  },
  "cells": [
    {
      "cell_type": "markdown",
      "metadata": {
        "id": "view-in-github",
        "colab_type": "text"
      },
      "source": [
        "<a href=\"https://colab.research.google.com/github/halimahbukirwa/Python_Course/blob/main/Language_ID_Model.ipynb\" target=\"_parent\"><img src=\"https://colab.research.google.com/assets/colab-badge.svg\" alt=\"Open In Colab\"/></a>"
      ]
    },
    {
      "cell_type": "markdown",
      "source": [
        "Using the TF-IDF (Term Frequency-Inverse Document Frequency) representation and a Multinomial Naive Bayes classifier for language identification"
      ],
      "metadata": {
        "id": "3WLLkhb94rK5"
      }
    },
    {
      "cell_type": "code",
      "source": [
        "import pandas as pd"
      ],
      "metadata": {
        "id": "1z0dQ9QA4zoJ"
      },
      "execution_count": 1,
      "outputs": []
    },
    {
      "cell_type": "code",
      "source": [
        "!wget https://raw.githubusercontent.com/SunbirdAI/salt/main/v1.2/salt-train-v1.2.jsonl\n",
        "!wget https://raw.githubusercontent.com/SunbirdAI/salt/main/v1.2/salt-dev-v1.2.jsonl\n",
        "!wget https://raw.githubusercontent.com/SunbirdAI/salt/main/v1.2/salt-test-v1.2.jsonl"
      ],
      "metadata": {
        "colab": {
          "base_uri": "https://localhost:8080/"
        },
        "id": "3aQ_dgly77No",
        "outputId": "ae097205-f9ca-406a-d6db-9db56c06169c"
      },
      "execution_count": 2,
      "outputs": [
        {
          "output_type": "stream",
          "name": "stdout",
          "text": [
            "--2023-07-27 18:10:48--  https://raw.githubusercontent.com/SunbirdAI/salt/main/v1.2/salt-train-v1.2.jsonl\n",
            "Resolving raw.githubusercontent.com (raw.githubusercontent.com)... 185.199.108.133, 185.199.109.133, 185.199.110.133, ...\n",
            "Connecting to raw.githubusercontent.com (raw.githubusercontent.com)|185.199.108.133|:443... connected.\n",
            "HTTP request sent, awaiting response... 200 OK\n",
            "Length: 10345911 (9.9M) [text/plain]\n",
            "Saving to: ‘salt-train-v1.2.jsonl’\n",
            "\n",
            "salt-train-v1.2.jso 100%[===================>]   9.87M  --.-KB/s    in 0.06s   \n",
            "\n",
            "2023-07-27 18:10:50 (164 MB/s) - ‘salt-train-v1.2.jsonl’ saved [10345911/10345911]\n",
            "\n",
            "--2023-07-27 18:10:50--  https://raw.githubusercontent.com/SunbirdAI/salt/main/v1.2/salt-dev-v1.2.jsonl\n",
            "Resolving raw.githubusercontent.com (raw.githubusercontent.com)... 185.199.108.133, 185.199.109.133, 185.199.110.133, ...\n",
            "Connecting to raw.githubusercontent.com (raw.githubusercontent.com)|185.199.108.133|:443... connected.\n",
            "HTTP request sent, awaiting response... 200 OK\n",
            "Length: 212967 (208K) [text/plain]\n",
            "Saving to: ‘salt-dev-v1.2.jsonl’\n",
            "\n",
            "salt-dev-v1.2.jsonl 100%[===================>] 207.98K  --.-KB/s    in 0.01s   \n",
            "\n",
            "2023-07-27 18:10:50 (20.9 MB/s) - ‘salt-dev-v1.2.jsonl’ saved [212967/212967]\n",
            "\n",
            "--2023-07-27 18:10:50--  https://raw.githubusercontent.com/SunbirdAI/salt/main/v1.2/salt-test-v1.2.jsonl\n",
            "Resolving raw.githubusercontent.com (raw.githubusercontent.com)... 185.199.108.133, 185.199.109.133, 185.199.110.133, ...\n",
            "Connecting to raw.githubusercontent.com (raw.githubusercontent.com)|185.199.108.133|:443... connected.\n",
            "HTTP request sent, awaiting response... 200 OK\n",
            "Length: 217596 (212K) [text/plain]\n",
            "Saving to: ‘salt-test-v1.2.jsonl’\n",
            "\n",
            "salt-test-v1.2.json 100%[===================>] 212.50K  --.-KB/s    in 0.01s   \n",
            "\n",
            "2023-07-27 18:10:50 (20.9 MB/s) - ‘salt-test-v1.2.jsonl’ saved [217596/217596]\n",
            "\n"
          ]
        }
      ]
    },
    {
      "cell_type": "code",
      "source": [
        "data = pd.read_json('salt-dev-v1.2.jsonl', lines = True )"
      ],
      "metadata": {
        "id": "Hm4ewv1P42Yq"
      },
      "execution_count": 3,
      "outputs": []
    },
    {
      "cell_type": "code",
      "source": [
        "# dataset_dict = {\n",
        "#     \"language\": [],\n",
        "#     \"text\": []\n",
        "# }\n",
        "# for row in data['text']:\n",
        "#     for lang in row.keys():\n",
        "#         dataset_dict[\"language\"].append(lang)\n",
        "#         dataset_dict[\"text\"].append(row[lang])"
      ],
      "metadata": {
        "id": "yT-7RRc7HFwf"
      },
      "execution_count": 4,
      "outputs": []
    },
    {
      "cell_type": "code",
      "source": [
        "dataset_dict = {\n",
        "        'language':[],\n",
        "        'text':[]\n",
        "}\n",
        "\n",
        "for row in data['text']:\n",
        "  for key,value in row.items():\n",
        "    dataset_dict['language'].append(key)\n",
        "    dataset_dict['text'].append(value)"
      ],
      "metadata": {
        "id": "ykYbzZvDAe7W"
      },
      "execution_count": 5,
      "outputs": []
    },
    {
      "cell_type": "code",
      "source": [
        "df = pd.DataFrame(dataset_dict, columns=['language', 'text'])\n",
        "df"
      ],
      "metadata": {
        "colab": {
          "base_uri": "https://localhost:8080/",
          "height": 423
        },
        "id": "61siLvFsI9-C",
        "outputId": "402227e2-9f08-4266-9384-422e91645c5b"
      },
      "execution_count": 6,
      "outputs": [
        {
          "output_type": "execute_result",
          "data": {
            "text/plain": [
              "     language                                               text\n",
              "0         eng  It's the government's responsibility to teach ...\n",
              "1         lug  Buvunaanyizibwa bwa gavumenti okusomesa abantu...\n",
              "2         ach  Obedo tic pa gamente me pwonyo lwak i kom two ...\n",
              "3         teo  Erai aswam apugan aisisianakin itunga ke nuika...\n",
              "4         lgg  Eri azi gamete ni imbata fezu 'ba ivile 'diyin...\n",
              "...       ...                                                ...\n",
              "2995      lug                     Abasomesa tebasasulwa bulungi.\n",
              "2996      ach                          Pe ki culu lupwonye maber\n",
              "2997      teo                     Mam isisianakinak etacio ejok.\n",
              "2998      lgg                       Ba ofeni imba'ba eyi muke ku\n",
              "2999      nyn                    Abegyesa tibarikushashurwa gye.\n",
              "\n",
              "[3000 rows x 2 columns]"
            ],
            "text/html": [
              "\n",
              "\n",
              "  <div id=\"df-c741967b-c36f-48f3-99b1-353c1911b311\">\n",
              "    <div class=\"colab-df-container\">\n",
              "      <div>\n",
              "<style scoped>\n",
              "    .dataframe tbody tr th:only-of-type {\n",
              "        vertical-align: middle;\n",
              "    }\n",
              "\n",
              "    .dataframe tbody tr th {\n",
              "        vertical-align: top;\n",
              "    }\n",
              "\n",
              "    .dataframe thead th {\n",
              "        text-align: right;\n",
              "    }\n",
              "</style>\n",
              "<table border=\"1\" class=\"dataframe\">\n",
              "  <thead>\n",
              "    <tr style=\"text-align: right;\">\n",
              "      <th></th>\n",
              "      <th>language</th>\n",
              "      <th>text</th>\n",
              "    </tr>\n",
              "  </thead>\n",
              "  <tbody>\n",
              "    <tr>\n",
              "      <th>0</th>\n",
              "      <td>eng</td>\n",
              "      <td>It's the government's responsibility to teach ...</td>\n",
              "    </tr>\n",
              "    <tr>\n",
              "      <th>1</th>\n",
              "      <td>lug</td>\n",
              "      <td>Buvunaanyizibwa bwa gavumenti okusomesa abantu...</td>\n",
              "    </tr>\n",
              "    <tr>\n",
              "      <th>2</th>\n",
              "      <td>ach</td>\n",
              "      <td>Obedo tic pa gamente me pwonyo lwak i kom two ...</td>\n",
              "    </tr>\n",
              "    <tr>\n",
              "      <th>3</th>\n",
              "      <td>teo</td>\n",
              "      <td>Erai aswam apugan aisisianakin itunga ke nuika...</td>\n",
              "    </tr>\n",
              "    <tr>\n",
              "      <th>4</th>\n",
              "      <td>lgg</td>\n",
              "      <td>Eri azi gamete ni imbata fezu 'ba ivile 'diyin...</td>\n",
              "    </tr>\n",
              "    <tr>\n",
              "      <th>...</th>\n",
              "      <td>...</td>\n",
              "      <td>...</td>\n",
              "    </tr>\n",
              "    <tr>\n",
              "      <th>2995</th>\n",
              "      <td>lug</td>\n",
              "      <td>Abasomesa tebasasulwa bulungi.</td>\n",
              "    </tr>\n",
              "    <tr>\n",
              "      <th>2996</th>\n",
              "      <td>ach</td>\n",
              "      <td>Pe ki culu lupwonye maber</td>\n",
              "    </tr>\n",
              "    <tr>\n",
              "      <th>2997</th>\n",
              "      <td>teo</td>\n",
              "      <td>Mam isisianakinak etacio ejok.</td>\n",
              "    </tr>\n",
              "    <tr>\n",
              "      <th>2998</th>\n",
              "      <td>lgg</td>\n",
              "      <td>Ba ofeni imba'ba eyi muke ku</td>\n",
              "    </tr>\n",
              "    <tr>\n",
              "      <th>2999</th>\n",
              "      <td>nyn</td>\n",
              "      <td>Abegyesa tibarikushashurwa gye.</td>\n",
              "    </tr>\n",
              "  </tbody>\n",
              "</table>\n",
              "<p>3000 rows × 2 columns</p>\n",
              "</div>\n",
              "      <button class=\"colab-df-convert\" onclick=\"convertToInteractive('df-c741967b-c36f-48f3-99b1-353c1911b311')\"\n",
              "              title=\"Convert this dataframe to an interactive table.\"\n",
              "              style=\"display:none;\">\n",
              "\n",
              "  <svg xmlns=\"http://www.w3.org/2000/svg\" height=\"24px\"viewBox=\"0 0 24 24\"\n",
              "       width=\"24px\">\n",
              "    <path d=\"M0 0h24v24H0V0z\" fill=\"none\"/>\n",
              "    <path d=\"M18.56 5.44l.94 2.06.94-2.06 2.06-.94-2.06-.94-.94-2.06-.94 2.06-2.06.94zm-11 1L8.5 8.5l.94-2.06 2.06-.94-2.06-.94L8.5 2.5l-.94 2.06-2.06.94zm10 10l.94 2.06.94-2.06 2.06-.94-2.06-.94-.94-2.06-.94 2.06-2.06.94z\"/><path d=\"M17.41 7.96l-1.37-1.37c-.4-.4-.92-.59-1.43-.59-.52 0-1.04.2-1.43.59L10.3 9.45l-7.72 7.72c-.78.78-.78 2.05 0 2.83L4 21.41c.39.39.9.59 1.41.59.51 0 1.02-.2 1.41-.59l7.78-7.78 2.81-2.81c.8-.78.8-2.07 0-2.86zM5.41 20L4 18.59l7.72-7.72 1.47 1.35L5.41 20z\"/>\n",
              "  </svg>\n",
              "      </button>\n",
              "\n",
              "\n",
              "\n",
              "    <div id=\"df-0794be7e-b729-4eb1-bc83-197ca2a6bd59\">\n",
              "      <button class=\"colab-df-quickchart\" onclick=\"quickchart('df-0794be7e-b729-4eb1-bc83-197ca2a6bd59')\"\n",
              "              title=\"Suggest charts.\"\n",
              "              style=\"display:none;\">\n",
              "\n",
              "<svg xmlns=\"http://www.w3.org/2000/svg\" height=\"24px\"viewBox=\"0 0 24 24\"\n",
              "     width=\"24px\">\n",
              "    <g>\n",
              "        <path d=\"M19 3H5c-1.1 0-2 .9-2 2v14c0 1.1.9 2 2 2h14c1.1 0 2-.9 2-2V5c0-1.1-.9-2-2-2zM9 17H7v-7h2v7zm4 0h-2V7h2v10zm4 0h-2v-4h2v4z\"/>\n",
              "    </g>\n",
              "</svg>\n",
              "      </button>\n",
              "    </div>\n",
              "\n",
              "<style>\n",
              "  .colab-df-quickchart {\n",
              "    background-color: #E8F0FE;\n",
              "    border: none;\n",
              "    border-radius: 50%;\n",
              "    cursor: pointer;\n",
              "    display: none;\n",
              "    fill: #1967D2;\n",
              "    height: 32px;\n",
              "    padding: 0 0 0 0;\n",
              "    width: 32px;\n",
              "  }\n",
              "\n",
              "  .colab-df-quickchart:hover {\n",
              "    background-color: #E2EBFA;\n",
              "    box-shadow: 0px 1px 2px rgba(60, 64, 67, 0.3), 0px 1px 3px 1px rgba(60, 64, 67, 0.15);\n",
              "    fill: #174EA6;\n",
              "  }\n",
              "\n",
              "  [theme=dark] .colab-df-quickchart {\n",
              "    background-color: #3B4455;\n",
              "    fill: #D2E3FC;\n",
              "  }\n",
              "\n",
              "  [theme=dark] .colab-df-quickchart:hover {\n",
              "    background-color: #434B5C;\n",
              "    box-shadow: 0px 1px 3px 1px rgba(0, 0, 0, 0.15);\n",
              "    filter: drop-shadow(0px 1px 2px rgba(0, 0, 0, 0.3));\n",
              "    fill: #FFFFFF;\n",
              "  }\n",
              "</style>\n",
              "\n",
              "    <script>\n",
              "      async function quickchart(key) {\n",
              "        const containerElement = document.querySelector('#' + key);\n",
              "        const charts = await google.colab.kernel.invokeFunction(\n",
              "            'suggestCharts', [key], {});\n",
              "      }\n",
              "    </script>\n",
              "\n",
              "      <script>\n",
              "\n",
              "function displayQuickchartButton(domScope) {\n",
              "  let quickchartButtonEl =\n",
              "    domScope.querySelector('#df-0794be7e-b729-4eb1-bc83-197ca2a6bd59 button.colab-df-quickchart');\n",
              "  quickchartButtonEl.style.display =\n",
              "    google.colab.kernel.accessAllowed ? 'block' : 'none';\n",
              "}\n",
              "\n",
              "        displayQuickchartButton(document);\n",
              "      </script>\n",
              "      <style>\n",
              "    .colab-df-container {\n",
              "      display:flex;\n",
              "      flex-wrap:wrap;\n",
              "      gap: 12px;\n",
              "    }\n",
              "\n",
              "    .colab-df-convert {\n",
              "      background-color: #E8F0FE;\n",
              "      border: none;\n",
              "      border-radius: 50%;\n",
              "      cursor: pointer;\n",
              "      display: none;\n",
              "      fill: #1967D2;\n",
              "      height: 32px;\n",
              "      padding: 0 0 0 0;\n",
              "      width: 32px;\n",
              "    }\n",
              "\n",
              "    .colab-df-convert:hover {\n",
              "      background-color: #E2EBFA;\n",
              "      box-shadow: 0px 1px 2px rgba(60, 64, 67, 0.3), 0px 1px 3px 1px rgba(60, 64, 67, 0.15);\n",
              "      fill: #174EA6;\n",
              "    }\n",
              "\n",
              "    [theme=dark] .colab-df-convert {\n",
              "      background-color: #3B4455;\n",
              "      fill: #D2E3FC;\n",
              "    }\n",
              "\n",
              "    [theme=dark] .colab-df-convert:hover {\n",
              "      background-color: #434B5C;\n",
              "      box-shadow: 0px 1px 3px 1px rgba(0, 0, 0, 0.15);\n",
              "      filter: drop-shadow(0px 1px 2px rgba(0, 0, 0, 0.3));\n",
              "      fill: #FFFFFF;\n",
              "    }\n",
              "  </style>\n",
              "\n",
              "      <script>\n",
              "        const buttonEl =\n",
              "          document.querySelector('#df-c741967b-c36f-48f3-99b1-353c1911b311 button.colab-df-convert');\n",
              "        buttonEl.style.display =\n",
              "          google.colab.kernel.accessAllowed ? 'block' : 'none';\n",
              "\n",
              "        async function convertToInteractive(key) {\n",
              "          const element = document.querySelector('#df-c741967b-c36f-48f3-99b1-353c1911b311');\n",
              "          const dataTable =\n",
              "            await google.colab.kernel.invokeFunction('convertToInteractive',\n",
              "                                                     [key], {});\n",
              "          if (!dataTable) return;\n",
              "\n",
              "          const docLinkHtml = 'Like what you see? Visit the ' +\n",
              "            '<a target=\"_blank\" href=https://colab.research.google.com/notebooks/data_table.ipynb>data table notebook</a>'\n",
              "            + ' to learn more about interactive tables.';\n",
              "          element.innerHTML = '';\n",
              "          dataTable['output_type'] = 'display_data';\n",
              "          await google.colab.output.renderOutput(dataTable, element);\n",
              "          const docLink = document.createElement('div');\n",
              "          docLink.innerHTML = docLinkHtml;\n",
              "          element.appendChild(docLink);\n",
              "        }\n",
              "      </script>\n",
              "    </div>\n",
              "  </div>\n"
            ]
          },
          "metadata": {},
          "execution_count": 6
        }
      ]
    },
    {
      "cell_type": "code",
      "source": [
        "from sklearn.feature_extraction.text import TfidfVectorizer\n",
        "from sklearn.naive_bayes import MultinomialNB\n",
        "from sklearn.model_selection import train_test_split\n",
        "from sklearn.metrics import accuracy_score, classification_report, confusion_matrix\n",
        "from sklearn import tree\n",
        "\n",
        "# Feature Extraction using TF-IDF\n",
        "vectorizer = TfidfVectorizer()\n",
        "X = vectorizer.fit_transform(df['text'])\n",
        "y = df['language']\n",
        "\n",
        "# Split the data into training and testing sets\n",
        "X_train, X_test, y_train, y_test = train_test_split(X, y, test_size=0.2, random_state=42)\n",
        "\n",
        "# Model Selection - Using Multinomial Naive Bayes classifier\n",
        "classifier = MultinomialNB()\n",
        "classifier.fit(X_train, y_train)\n",
        "\n",
        "# Model Evaluation\n",
        "y_pred = classifier.predict(X_test)\n",
        "\n",
        "# Calculate accuracy and print the classification report and confusion matrix\n",
        "accuracy = accuracy_score(y_test, y_pred)\n",
        "print(\"Accuracy:\", accuracy)\n",
        "\n",
        "print(\"\\nClassification Report:\")\n",
        "print(classification_report(y_test, y_pred))\n",
        "\n",
        "print(\"\\nConfusion Matrix:\")\n",
        "print(confusion_matrix(y_test, y_pred))"
      ],
      "metadata": {
        "colab": {
          "base_uri": "https://localhost:8080/"
        },
        "id": "wdzdtVy7LPeD",
        "outputId": "50b74d6e-3b33-4f31-c9b0-7dd71a2188a1"
      },
      "execution_count": 7,
      "outputs": [
        {
          "output_type": "stream",
          "name": "stdout",
          "text": [
            "Accuracy: 0.97\n",
            "\n",
            "Classification Report:\n",
            "              precision    recall  f1-score   support\n",
            "\n",
            "         ach       1.00      1.00      1.00       100\n",
            "         eng       0.98      1.00      0.99       105\n",
            "         lgg       0.98      1.00      0.99        89\n",
            "         lug       0.88      0.99      0.93        94\n",
            "         nyn       0.99      0.85      0.91       111\n",
            "         teo       1.00      1.00      1.00       101\n",
            "\n",
            "    accuracy                           0.97       600\n",
            "   macro avg       0.97      0.97      0.97       600\n",
            "weighted avg       0.97      0.97      0.97       600\n",
            "\n",
            "\n",
            "Confusion Matrix:\n",
            "[[100   0   0   0   0   0]\n",
            " [  0 105   0   0   0   0]\n",
            " [  0   0  89   0   0   0]\n",
            " [  0   0   0  93   1   0]\n",
            " [  0   2   2  13  94   0]\n",
            " [  0   0   0   0   0 101]]\n"
          ]
        }
      ]
    },
    {
      "cell_type": "code",
      "source": [
        "# from sklearn import tree\n",
        "# clf = tree.DecisionTreeClassifier()\n",
        "# clf = clf.fit(X_train, y_train)\n",
        "\n",
        "# y_pred = classifier.predict(X_test)\n",
        "\n",
        "# # Calculate accuracy and print the classification report and confusion matrix\n",
        "# accuracy = accuracy_score(y_test, y_pred)\n",
        "\n",
        "# print(\"Accuracy:\", accuracy)\n",
        "\n",
        "# print(\"\\nClassification Report:\")\n",
        "# print(classification_report(y_test, y_pred))\n",
        "\n",
        "# print(\"\\nConfusion Matrix:\")\n",
        "# print(confusion_matrix(y_test, y_pred))"
      ],
      "metadata": {
        "id": "zG87aW-vsiju"
      },
      "execution_count": 8,
      "outputs": []
    },
    {
      "cell_type": "code",
      "source": [
        "# from sklearn.ensemble import RandomForestClassifier\n",
        "\n",
        "# clf = RandomForestClassifier(n_estimators=100)\n",
        "# clf = clf.fit(X_train, y_train)\n",
        "\n",
        "# y_pred = classifier.predict(X_test)\n",
        "\n",
        "# # Calculate accuracy and print the classification report and confusion matrix\n",
        "# accuracy = accuracy_score(y_test, y_pred)\n",
        "\n",
        "# print(\"Accuracy:\", accuracy)\n",
        "\n",
        "# print(\"\\nClassification Report:\")\n",
        "# print(classification_report(y_test, y_pred))\n",
        "\n",
        "# print(\"\\nConfusion Matrix:\")\n",
        "# print(confusion_matrix(y_test, y_pred))"
      ],
      "metadata": {
        "id": "lw_MGq7qskeH"
      },
      "execution_count": 9,
      "outputs": []
    },
    {
      "cell_type": "code",
      "source": [
        "new_samples = [\"Let's go to the katale\"]\n",
        "\n",
        "# Use the same TF-IDF vectorizer to transform the new text samples\n",
        "X_new = vectorizer.transform(new_samples)\n",
        "\n",
        "# Use the trained classifier to predict the language of the new text samples\n",
        "y_pred_new = classifier.predict(X_new)\n",
        "\n",
        "# Display the predicted languages for the new samples\n",
        "print(f\"Text: '{new_samples}' => Predicted Language: {y_pred_new}\")"
      ],
      "metadata": {
        "id": "rJDs1LHvtM6w",
        "colab": {
          "base_uri": "https://localhost:8080/"
        },
        "outputId": "6ccfc650-c945-4e20-e8d7-860ce5abca31"
      },
      "execution_count": 10,
      "outputs": [
        {
          "output_type": "stream",
          "name": "stdout",
          "text": [
            "Text: '[\"Let's go to the katale\"]' => Predicted Language: ['eng']\n"
          ]
        }
      ]
    },
    {
      "cell_type": "code",
      "source": [
        "import joblib\n",
        "\n",
        "# Specifying the file path where I want to save the model\n",
        "model_filename = 'multinomial_nb_model.joblib'\n",
        "\n",
        "# Saving the trained classifier to the specified file\n",
        "joblib.dump(classifier, model_filename)"
      ],
      "metadata": {
        "colab": {
          "base_uri": "https://localhost:8080/"
        },
        "id": "CR0nRytVEOrF",
        "outputId": "4a028864-f3c5-4b74-eb09-d77fe81a976b"
      },
      "execution_count": 11,
      "outputs": [
        {
          "output_type": "execute_result",
          "data": {
            "text/plain": [
              "['multinomial_nb_model.joblib']"
            ]
          },
          "metadata": {},
          "execution_count": 11
        }
      ]
    },
    {
      "cell_type": "code",
      "source": [
        "from google.colab import drive\n",
        "drive.mount('/content/drive')"
      ],
      "metadata": {
        "colab": {
          "base_uri": "https://localhost:8080/"
        },
        "id": "vAl2EjAri4g1",
        "outputId": "5be05c9c-07bb-4d69-bdd9-34a1f8fe8e06"
      },
      "execution_count": 12,
      "outputs": [
        {
          "output_type": "stream",
          "name": "stdout",
          "text": [
            "Mounted at /content/drive\n"
          ]
        }
      ]
    },
    {
      "cell_type": "markdown",
      "source": [
        "## **TESTING THE SAVED MODEL**"
      ],
      "metadata": {
        "id": "bp2mZLrTjge5"
      }
    },
    {
      "cell_type": "code",
      "source": [
        "loaded_classifier = joblib.load('/content/drive/MyDrive/Colab Notebooks/multinomial_nb_model.joblib')"
      ],
      "metadata": {
        "id": "5NHqIHlcikfk"
      },
      "execution_count": 13,
      "outputs": []
    },
    {
      "cell_type": "code",
      "source": [
        "new_samples = [\n",
        "    'I am going to the katale', # eng\n",
        "    'Ngenda mu katale',  # lug\n",
        "    'Uganda',  # any\n",
        "    'Ekikopo',  # lug or nyn\n",
        "    'Runyankole',  # nyn or lug\n",
        "    'Omuntu',  # nyn or lug\n",
        "    \"Ebigambo by'amagezi\",  # lug\n",
        "    \"Bw'okoowa\",  # lug\n",
        "    \"yiga\",  # lug\n",
        "    \"kubivaako\",  # lug\n",
        "    \"Mulindeeko tujja kubayita\",  # lug\n",
        "    \"Gamba Mpurire\",  # nyn\n",
        "    \"Ekiro twaburayo kimwe kyonka tukajaguza embaga y'omwaka\",  # nyn\n",
        "    \"Tushangye\",  # nyn\n",
        "    \"Ekitongore ekya UWA kiriyo nikibangura abanyamakuru kuruga omukyanga ekya Kigezi ahakuhandiika amakuru agakwatiraine n’okurinda enyamaishwa z’omukishaka.\",  # nyn\n",
        "    \"itye nining\",  # ach\n",
        "    \"Irii maber, ladit?\",  # ach\n",
        "    \"Ibuto maber\",  # ach\n",
        "    \"Ibuto Gulu\",  # ach,\n",
        "    \"Amito tedo labolo kwon.\",  # ach\n",
        "    \"Ngo manyen?\",  # ach\n",
        "    \"Wacito I gang kwan nino ducu\",  # ach\n",
        "    \"Kumbedi abedo Anaka i Amuru aa ki California i Amerika ento.\"  # ach\n",
        "]\n",
        "\n",
        "# Use the same TF-IDF vectorizer to transform the new text samples\n",
        "X_new = vectorizer.transform(new_samples)\n",
        "\n",
        "# Use the trained classifier to predict the language of the new text samples\n",
        "y_pred_new = loaded_classifier.predict(X_new)\n",
        "\n",
        "# Print the results\n",
        "for sentence, language in zip(new_samples, y_pred_new):\n",
        "    print(f\"Text: '{sentence}' => Predicted Language: {language}\")\n"
      ],
      "metadata": {
        "colab": {
          "base_uri": "https://localhost:8080/"
        },
        "id": "UwtbzjzpipCx",
        "outputId": "6e8499c2-de86-4efd-d7ef-b815d057a3d5"
      },
      "execution_count": 14,
      "outputs": [
        {
          "output_type": "stream",
          "name": "stdout",
          "text": [
            "Text: 'I am going to the katale' => Predicted Language: eng\n",
            "Text: 'Ngenda mu katale' => Predicted Language: lug\n",
            "Text: 'Uganda' => Predicted Language: lug\n",
            "Text: 'Ekikopo' => Predicted Language: lgg\n",
            "Text: 'Runyankole' => Predicted Language: lgg\n",
            "Text: 'Omuntu' => Predicted Language: lug\n",
            "Text: 'Ebigambo by'amagezi' => Predicted Language: lug\n",
            "Text: 'Bw'okoowa' => Predicted Language: nyn\n",
            "Text: 'yiga' => Predicted Language: lgg\n",
            "Text: 'kubivaako' => Predicted Language: lgg\n",
            "Text: 'Mulindeeko tujja kubayita' => Predicted Language: lug\n",
            "Text: 'Gamba Mpurire' => Predicted Language: lgg\n",
            "Text: 'Ekiro twaburayo kimwe kyonka tukajaguza embaga y'omwaka' => Predicted Language: nyn\n",
            "Text: 'Tushangye' => Predicted Language: lgg\n",
            "Text: 'Ekitongore ekya UWA kiriyo nikibangura abanyamakuru kuruga omukyanga ekya Kigezi ahakuhandiika amakuru agakwatiraine n’okurinda enyamaishwa z’omukishaka.' => Predicted Language: nyn\n",
            "Text: 'itye nining' => Predicted Language: ach\n",
            "Text: 'Irii maber, ladit?' => Predicted Language: ach\n",
            "Text: 'Ibuto maber' => Predicted Language: ach\n",
            "Text: 'Ibuto Gulu' => Predicted Language: lgg\n",
            "Text: 'Amito tedo labolo kwon.' => Predicted Language: ach\n",
            "Text: 'Ngo manyen?' => Predicted Language: ach\n",
            "Text: 'Wacito I gang kwan nino ducu' => Predicted Language: ach\n",
            "Text: 'Kumbedi abedo Anaka i Amuru aa ki California i Amerika ento.' => Predicted Language: ach\n"
          ]
        }
      ]
    }
  ]
}